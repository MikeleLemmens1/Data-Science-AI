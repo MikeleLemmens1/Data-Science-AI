{
  "cells": [
    {
      "cell_type": "markdown",
      "metadata": {
        "id": "dYTxJWJG5miJ"
      },
      "source": [
        "# Lab 2.05 - Univariate Analysis\n"
      ]
    },
    {
      "cell_type": "code",
      "execution_count": 1,
      "metadata": {
        "id": "MvwMKfrI8X-p"
      },
      "outputs": [],
      "source": [
        "# Importing the necessary packages\n",
        "import numpy as np                                  # \"Scientific computing\"\n",
        "import scipy.stats as stats                         # Statistical tests\n",
        "\n",
        "import pandas as pd                                 # Data Frame\n",
        "from pandas.api.types import CategoricalDtype\n",
        "\n",
        "import matplotlib.pyplot as plt                     # Basic visualisation\n",
        "from statsmodels.graphics.mosaicplot import mosaic  # Mosaic diagram\n",
        "import seaborn as sns                               # Advanced data visualisation"
      ]
    },
    {
      "cell_type": "markdown",
      "metadata": {
        "id": "M09gxg4SK4CJ"
      },
      "source": [
        "## Exercise 5 - Baseball Salaries\n",
        "\n",
        "The file Baseball Salaries contains data on 868 Major League Baseball (MLB) players in the 2011 season. There are four variables: the player's name, team, position, and salary. How can these 868 salaries be summarized?\n",
        "\n",
        "- Calculate the mean, the median and the mode (i.e. measures of central tendency)\n",
        "- Calculate the minimum, maximum, quartiles\n",
        "- Calculate the range, interquartile range, variance, standard deviation (i.e. measures of variability)\n",
        "- Calculate the skewness and Kurtosis (i.e. measures of shape)\n",
        "- Draw a histogram. Use 11 bins with equal width. Does it indicate skewness?\n",
        "- Draw a boxplot. Does it indicate skewness?"
      ]
    },
    {
      "cell_type": "code",
      "execution_count": 3,
      "metadata": {
        "colab": {
          "base_uri": "https://localhost:8080/",
          "height": 206
        },
        "id": "aFO1zL_bZ51g",
        "outputId": "e4be8f90-34ae-488d-df3e-b425fe323356"
      },
      "outputs": [
        {
          "data": {
            "text/html": [
              "<div>\n",
              "<style scoped>\n",
              "    .dataframe tbody tr th:only-of-type {\n",
              "        vertical-align: middle;\n",
              "    }\n",
              "\n",
              "    .dataframe tbody tr th {\n",
              "        vertical-align: top;\n",
              "    }\n",
              "\n",
              "    .dataframe thead th {\n",
              "        text-align: right;\n",
              "    }\n",
              "</style>\n",
              "<table border=\"1\" class=\"dataframe\">\n",
              "  <thead>\n",
              "    <tr style=\"text-align: right;\">\n",
              "      <th></th>\n",
              "      <th>Player</th>\n",
              "      <th>Team</th>\n",
              "      <th>Position</th>\n",
              "      <th>Salary</th>\n",
              "    </tr>\n",
              "  </thead>\n",
              "  <tbody>\n",
              "    <tr>\n",
              "      <th>0</th>\n",
              "      <td>A.J. Burnett</td>\n",
              "      <td>New York Yankees</td>\n",
              "      <td>Pitcher</td>\n",
              "      <td>16500000</td>\n",
              "    </tr>\n",
              "    <tr>\n",
              "      <th>1</th>\n",
              "      <td>A.J. Ellis</td>\n",
              "      <td>Los Angeles Dodgers</td>\n",
              "      <td>Catcher</td>\n",
              "      <td>421000</td>\n",
              "    </tr>\n",
              "    <tr>\n",
              "      <th>2</th>\n",
              "      <td>A.J. Pierzynski</td>\n",
              "      <td>Chicago White Sox</td>\n",
              "      <td>Catcher</td>\n",
              "      <td>2000000</td>\n",
              "    </tr>\n",
              "    <tr>\n",
              "      <th>3</th>\n",
              "      <td>Aaron Cook</td>\n",
              "      <td>Colorado Rockies</td>\n",
              "      <td>Pitcher</td>\n",
              "      <td>9875000</td>\n",
              "    </tr>\n",
              "    <tr>\n",
              "      <th>4</th>\n",
              "      <td>Aaron Crow</td>\n",
              "      <td>Kansas City Royals</td>\n",
              "      <td>Pitcher</td>\n",
              "      <td>1400000</td>\n",
              "    </tr>\n",
              "  </tbody>\n",
              "</table>\n",
              "</div>"
            ],
            "text/plain": [
              "            Player                 Team Position    Salary\n",
              "0     A.J. Burnett     New York Yankees  Pitcher  16500000\n",
              "1       A.J. Ellis  Los Angeles Dodgers  Catcher    421000\n",
              "2  A.J. Pierzynski    Chicago White Sox  Catcher   2000000\n",
              "3       Aaron Cook     Colorado Rockies  Pitcher   9875000\n",
              "4       Aaron Crow   Kansas City Royals  Pitcher   1400000"
            ]
          },
          "execution_count": 3,
          "metadata": {},
          "output_type": "execute_result"
        }
      ],
      "source": [
        "bb = pd.read_csv('https://raw.githubusercontent.com/HoGentTIN/dsai-labs/main/data/Baseball%20Salaries%202011.csv', delimiter=\";\")\n",
        "# Show the first few records of the Data Frame\n",
        "bb.head()"
      ]
    },
    {
      "cell_type": "code",
      "execution_count": 4,
      "metadata": {
        "id": "BkLIdzVpbpdg"
      },
      "outputs": [
        {
          "data": {
            "text/html": [
              "<div>\n",
              "<style scoped>\n",
              "    .dataframe tbody tr th:only-of-type {\n",
              "        vertical-align: middle;\n",
              "    }\n",
              "\n",
              "    .dataframe tbody tr th {\n",
              "        vertical-align: top;\n",
              "    }\n",
              "\n",
              "    .dataframe thead th {\n",
              "        text-align: right;\n",
              "    }\n",
              "</style>\n",
              "<table border=\"1\" class=\"dataframe\">\n",
              "  <thead>\n",
              "    <tr style=\"text-align: right;\">\n",
              "      <th></th>\n",
              "      <th>Player</th>\n",
              "      <th>Team</th>\n",
              "      <th>Position</th>\n",
              "      <th>Salary</th>\n",
              "    </tr>\n",
              "  </thead>\n",
              "  <tbody>\n",
              "    <tr>\n",
              "      <th>0</th>\n",
              "      <td>A.J. Burnett</td>\n",
              "      <td>New York Yankees</td>\n",
              "      <td>Pitcher</td>\n",
              "      <td>16500000</td>\n",
              "    </tr>\n",
              "    <tr>\n",
              "      <th>1</th>\n",
              "      <td>A.J. Ellis</td>\n",
              "      <td>Los Angeles Dodgers</td>\n",
              "      <td>Catcher</td>\n",
              "      <td>421000</td>\n",
              "    </tr>\n",
              "    <tr>\n",
              "      <th>2</th>\n",
              "      <td>A.J. Pierzynski</td>\n",
              "      <td>Chicago White Sox</td>\n",
              "      <td>Catcher</td>\n",
              "      <td>2000000</td>\n",
              "    </tr>\n",
              "    <tr>\n",
              "      <th>3</th>\n",
              "      <td>Aaron Cook</td>\n",
              "      <td>Colorado Rockies</td>\n",
              "      <td>Pitcher</td>\n",
              "      <td>9875000</td>\n",
              "    </tr>\n",
              "    <tr>\n",
              "      <th>4</th>\n",
              "      <td>Aaron Crow</td>\n",
              "      <td>Kansas City Royals</td>\n",
              "      <td>Pitcher</td>\n",
              "      <td>1400000</td>\n",
              "    </tr>\n",
              "    <tr>\n",
              "      <th>...</th>\n",
              "      <td>...</td>\n",
              "      <td>...</td>\n",
              "      <td>...</td>\n",
              "      <td>...</td>\n",
              "    </tr>\n",
              "    <tr>\n",
              "      <th>838</th>\n",
              "      <td>Yunel Escobar</td>\n",
              "      <td>Toronto Blue Jays</td>\n",
              "      <td>Shortstop</td>\n",
              "      <td>2900000</td>\n",
              "    </tr>\n",
              "    <tr>\n",
              "      <th>839</th>\n",
              "      <td>Yuniesky Betancourt-Perez</td>\n",
              "      <td>Milwaukee Brewers</td>\n",
              "      <td>Shortstop</td>\n",
              "      <td>4300000</td>\n",
              "    </tr>\n",
              "    <tr>\n",
              "      <th>840</th>\n",
              "      <td>Zach Braddock</td>\n",
              "      <td>Milwaukee Brewers</td>\n",
              "      <td>Pitcher</td>\n",
              "      <td>424000</td>\n",
              "    </tr>\n",
              "    <tr>\n",
              "      <th>841</th>\n",
              "      <td>Zach Duke</td>\n",
              "      <td>Arizona Diamondbacks</td>\n",
              "      <td>Pitcher</td>\n",
              "      <td>3500000</td>\n",
              "    </tr>\n",
              "    <tr>\n",
              "      <th>842</th>\n",
              "      <td>Zack Greinke</td>\n",
              "      <td>Milwaukee Brewers</td>\n",
              "      <td>Pitcher</td>\n",
              "      <td>13500000</td>\n",
              "    </tr>\n",
              "  </tbody>\n",
              "</table>\n",
              "<p>843 rows × 4 columns</p>\n",
              "</div>"
            ],
            "text/plain": [
              "                        Player                  Team   Position    Salary\n",
              "0                 A.J. Burnett      New York Yankees    Pitcher  16500000\n",
              "1                   A.J. Ellis   Los Angeles Dodgers    Catcher    421000\n",
              "2              A.J. Pierzynski     Chicago White Sox    Catcher   2000000\n",
              "3                   Aaron Cook      Colorado Rockies    Pitcher   9875000\n",
              "4                   Aaron Crow    Kansas City Royals    Pitcher   1400000\n",
              "..                         ...                   ...        ...       ...\n",
              "838              Yunel Escobar     Toronto Blue Jays  Shortstop   2900000\n",
              "839  Yuniesky Betancourt-Perez     Milwaukee Brewers  Shortstop   4300000\n",
              "840              Zach Braddock     Milwaukee Brewers    Pitcher    424000\n",
              "841                  Zach Duke  Arizona Diamondbacks    Pitcher   3500000\n",
              "842               Zack Greinke     Milwaukee Brewers    Pitcher  13500000\n",
              "\n",
              "[843 rows x 4 columns]"
            ]
          },
          "execution_count": 4,
          "metadata": {},
          "output_type": "execute_result"
        }
      ],
      "source": [
        "bb_frame = pd.DataFrame(bb)\n",
        "bb_frame"
      ]
    },
    {
      "cell_type": "code",
      "execution_count": 32,
      "metadata": {},
      "outputs": [
        {
          "name": "stdout",
          "output_type": "stream",
          "text": [
            "Mean is: 3.305e+06\n",
            "Median is: 1175000.0\n",
            "Mode is: 0    414000\n",
            "Name: Salary, dtype: int64\n",
            "\n",
            "Range is: 31586000\n",
            "Interquartile range is: 3875925.0\n",
            "Variance is: 20563887478832.742\n",
            "Standard deviation is: 4534742.272591988\n",
            "\n",
            "Skew is: 2.26\n",
            "Kurtosis is: 5.72\n",
            "                                0\n",
            "Mean                 3.305055e+06\n",
            "Median               1.175000e+06\n",
            "Mode                 4.140000e+05\n",
            "Range                3.158600e+07\n",
            "Interquartile range  3.875925e+06\n",
            "Variance             2.056389e+13\n",
            "Standard deviation   4.534742e+06\n",
            "Skew                 2.256827e+00\n",
            "Kurtosis             5.723259e+00\n",
            "Minimum              4.140000e+05\n",
            "Maximum              3.200000e+07\n"
          ]
        },
        {
          "data": {
            "text/html": [
              "<div>\n",
              "<style scoped>\n",
              "    .dataframe tbody tr th:only-of-type {\n",
              "        vertical-align: middle;\n",
              "    }\n",
              "\n",
              "    .dataframe tbody tr th {\n",
              "        vertical-align: top;\n",
              "    }\n",
              "\n",
              "    .dataframe thead th {\n",
              "        text-align: right;\n",
              "    }\n",
              "</style>\n",
              "<table border=\"1\" class=\"dataframe\">\n",
              "  <thead>\n",
              "    <tr style=\"text-align: right;\">\n",
              "      <th></th>\n",
              "      <th>Statistics</th>\n",
              "    </tr>\n",
              "  </thead>\n",
              "  <tbody>\n",
              "    <tr>\n",
              "      <th>Mean</th>\n",
              "      <td>3.305055e+06</td>\n",
              "    </tr>\n",
              "    <tr>\n",
              "      <th>Median</th>\n",
              "      <td>1.175000e+06</td>\n",
              "    </tr>\n",
              "    <tr>\n",
              "      <th>Mode</th>\n",
              "      <td>4.140000e+05</td>\n",
              "    </tr>\n",
              "    <tr>\n",
              "      <th>Range</th>\n",
              "      <td>3.158600e+07</td>\n",
              "    </tr>\n",
              "    <tr>\n",
              "      <th>Interquartile range</th>\n",
              "      <td>3.875925e+06</td>\n",
              "    </tr>\n",
              "    <tr>\n",
              "      <th>Variance</th>\n",
              "      <td>2.056389e+13</td>\n",
              "    </tr>\n",
              "    <tr>\n",
              "      <th>Standard deviation</th>\n",
              "      <td>4.534742e+06</td>\n",
              "    </tr>\n",
              "    <tr>\n",
              "      <th>Skew</th>\n",
              "      <td>2.256827e+00</td>\n",
              "    </tr>\n",
              "    <tr>\n",
              "      <th>Kurtosis</th>\n",
              "      <td>5.723259e+00</td>\n",
              "    </tr>\n",
              "    <tr>\n",
              "      <th>Minimum</th>\n",
              "      <td>4.140000e+05</td>\n",
              "    </tr>\n",
              "    <tr>\n",
              "      <th>Maximum</th>\n",
              "      <td>3.200000e+07</td>\n",
              "    </tr>\n",
              "  </tbody>\n",
              "</table>\n",
              "</div>"
            ],
            "text/plain": [
              "                       Statistics\n",
              "Mean                 3.305055e+06\n",
              "Median               1.175000e+06\n",
              "Mode                 4.140000e+05\n",
              "Range                3.158600e+07\n",
              "Interquartile range  3.875925e+06\n",
              "Variance             2.056389e+13\n",
              "Standard deviation   4.534742e+06\n",
              "Skew                 2.256827e+00\n",
              "Kurtosis             5.723259e+00\n",
              "Minimum              4.140000e+05\n",
              "Maximum              3.200000e+07"
            ]
          },
          "execution_count": 32,
          "metadata": {},
          "output_type": "execute_result"
        }
      ],
      "source": [
        "#Calculate mean, median and mode\n",
        "print(f\"Mean is: {bb_frame['Salary'].mean():.4}\")\n",
        "print(f\"Median is: {bb_frame['Salary'].median()}\")\n",
        "print(f\"Mode is: {bb_frame['Salary'].mode()}\\n\")\n",
        "\n",
        "#Calculate min, max and quartiles\n",
        "bb_frame['Salary'].describe()\n",
        "\n",
        "#Calculate the range, interquartile range, variance, standard deviation (i.e. measures of variability)\n",
        "\n",
        "print(f\"Range is: {bb_frame['Salary'].max()-bb_frame['Salary'].min()}\")\n",
        "print(f\"Interquartile range is: {bb_frame['Salary'].quantile(0.75)-bb_frame['Salary'].quantile(0.25)}\")\n",
        "print(f\"Variance is: {bb_frame['Salary'].var()}\")\n",
        "print(f\"Standard deviation is: {bb_frame['Salary'].std()}\\n\")\n",
        "\n",
        "#Calculate the skewness and Kurtosis (i.e. measures of shape)\n",
        "\n",
        "print(f\"Skew is: {bb_frame['Salary'].skew():.2f}\")\n",
        "print(f\"Kurtosis is: {bb_frame['Salary'].kurtosis():.2f}\")\n",
        "\n",
        "dict = {\n",
        "\n",
        "  \"Mean\": bb_frame['Salary'].mean(),\n",
        "  \"Median\": bb_frame['Salary'].median(),\n",
        "  \"Mode\": bb_frame['Salary'].mode(),\n",
        "  \"Range\": bb_frame['Salary'].max()-bb_frame['Salary'].min(),\n",
        "  \"Interquartile range\": bb_frame['Salary'].quantile(0.75)-bb_frame['Salary'].quantile(0.25),\n",
        "  \"Variance\": bb_frame['Salary'].var(),\n",
        "  \"Standard deviation\": bb_frame['Salary'].std(),\n",
        "  \"Skew\": bb_frame['Salary'].skew(),\n",
        "  \"Kurtosis\": bb_frame['Salary'].kurtosis(),\n",
        "  \"Minimum\": bb_frame['Salary'].min(),\n",
        "  \"Maximum\": bb_frame['Salary'].max(),\n",
        "\n",
        "}\n",
        "\n",
        "Results = pd.DataFrame(dict).T\n",
        "print(Results)\n",
        "Results.columns = ['Statistics']\n",
        "Results"
      ]
    },
    {
      "cell_type": "code",
      "execution_count": 19,
      "metadata": {
        "id": "lV2zlm4lc3FW"
      },
      "outputs": [
        {
          "data": {
            "image/png": "[encoded data removed]",
            "text/plain": [
              "<Figure size 640x480 with 1 Axes>"
            ]
          },
          "metadata": {},
          "output_type": "display_data"
        }
      ],
      "source": [
        "sns.boxplot(data = bb_frame, x = \"Salary\")"
      ]
    },
    {
      "cell_type": "markdown",
      "metadata": {
        "id": "0ztB0oHPtpEf"
      },
      "source": [
        "![image.png](data:image/png;base64,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)"
      ]
    },
    {
      "cell_type": "code",
      "execution_count": null,
      "metadata": {
        "id": "k-w4eyABcp-I"
      },
      "outputs": [],
      "source": []
    },
    {
      "cell_type": "markdown",
      "metadata": {},
      "source": [
        "## Answers\n",
        "\n",
        "|      Statistic       |              Value |\n",
        "| :------------------: | -----------------: |\n",
        "|         Mean         |        3305054.675 |\n",
        "|        Median        |          1175000.0 |\n",
        "|         Mode         |        0    414000 |\n",
        "|  Standard deviation  |        4534742.273 |\n",
        "|       Variance       | 20563887478832.742 |\n",
        "|       Skewness       |              2.257 |\n",
        "|       Kurtosis       |              5.723 |\n",
        "|       Minimum        |             414000 |\n",
        "|        Median        |          1175000.0 |\n",
        "|       Maximum        |           32000000 |\n",
        "| Inter Quartile Range |          3875925.0 |\n",
        "|        Range         |           31586000 |\n",
        "\n",
        "| Percentiles  |       Value |\n",
        "| :----------: | ----------: |\n",
        "|     0.00     |    414000.0 |\n",
        "|     0.25     |    430325.0 |\n",
        "|     0.50     |   1175000.0 |\n",
        "|     0.75     |   4306250.0 |\n",
        "|     1.00     |  32000000.0 |\n"
      ]
    }
  ],
  "metadata": {
    "colab": {
      "provenance": []
    },
    "gpuClass": "standard",
    "kernelspec": {
      "display_name": "Python 3",
      "name": "python3"
    },
    "language_info": {
      "codemirror_mode": {
        "name": "ipython",
        "version": 3
      },
      "file_extension": ".py",
      "mimetype": "text/x-python",
      "name": "python",
      "nbconvert_exporter": "python",
      "pygments_lexer": "ipython3",
      "version": "3.10.11"
    },
    "orig_nbformat": 4
  },
  "nbformat": 4,
  "nbformat_minor": 0
}
