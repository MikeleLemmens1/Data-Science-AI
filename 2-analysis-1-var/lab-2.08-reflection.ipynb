{
 "cells": [
  {
   "attachments": {},
   "cell_type": "markdown",
   "metadata": {},
   "source": [
    "# Lab 2.08 - Univariate Analysis: Reflection exercises\n",
    "\n",
    "## Exercise 8.1 - retrieval practice: analysis of 1 variable\n",
    "\n",
    "Use the procedure for retrieval practice from the similar exercises in Module 1 to study the techniques for analysis and visualization of a single variable.\n",
    "\n",
    "For each measurement level, provide:\n",
    "\n",
    "- The appropriate measures for central tendency and dispersion (name, definitions and formulas)\n",
    "- The appropriate graph types"
   ]
  },
  {
   "cell_type": "markdown",
   "metadata": {},
   "source": [
    "## Exercise 8.2 - sample mean and sample variance of a frequency table\n",
    "\n",
    "Consider the formulas for the sample mean $\\overline{x}$, the sample variance $s^2$ and the standard deviation $s$. How should these formulas be adapted to calculate these values when we are dealing with a frequency table? A frequency table gives an overview of how often each different value (of a qualitative variable) occurs in the sample.\n",
    "\n",
    "Apply your formula to the data in the table below:\n",
    "\n",
    "| Pins $s$ | Frequency $f_x$ |\n",
    "| :------: | :-------------: |\n",
    "|    0     |        2        |\n",
    "|    1     |        1        |\n",
    "|    2     |        2        |\n",
    "|    3     |        0        |\n",
    "|    4     |        2        |\n",
    "|    5     |        4        |\n",
    "|    6     |        9        |\n",
    "|    7     |       11        |\n",
    "|    8     |       13        |\n",
    "|    9     |        8        |\n",
    "|    10    |        8        |\n",
    "\n",
    "*While playing a skittles game, the number of pins that were knocked over with each throw is recorded. For each possible score x, the number of times this score was obtained during a throw was recorded.*\n",
    "\n",
    "**Results (for your convenience):** $n = 60$, mean = 7, variance ≈ 5.83, standard deviation ≈ 2.41"
   ]
  },
  {
   "cell_type": "code",
   "execution_count": 1,
   "metadata": {},
   "outputs": [
    {
     "name": "stdout",
     "output_type": "stream",
     "text": [
      "N is 60\n",
      "Mean is 5.45\n",
      "Median is: 4.0\n",
      "St dev is: 4.48\n",
      "Variance is: 20.07\n"
     ]
    },
    {
     "name": "stderr",
     "output_type": "stream",
     "text": [
      "C:\\Users\\Mikel\\AppData\\Local\\Temp\\ipykernel_10616\\1778317900.py:1: DeprecationWarning: \n",
      "Pyarrow will become a required dependency of pandas in the next major release of pandas (pandas 3.0),\n",
      "(to allow more performant data types, such as the Arrow string type, and better interoperability with other libraries)\n",
      "but was not found to be installed on your system.\n",
      "If this would cause problems for you,\n",
      "please provide us feedback at https://github.com/pandas-dev/pandas/issues/54466\n",
      "        \n",
      "  import pandas as pd\n"
     ]
    },
    {
     "data": {
      "text/plain": [
       "count    11.000000\n",
       "mean      5.454545\n",
       "std       4.480260\n",
       "min       0.000000\n",
       "25%       2.000000\n",
       "50%       4.000000\n",
       "75%       8.500000\n",
       "max      13.000000\n",
       "dtype: float64"
      ]
     },
     "execution_count": 1,
     "metadata": {},
     "output_type": "execute_result"
    }
   ],
   "source": [
    "import pandas as pd\n",
    "import math\n",
    "\n",
    "frequency = [2,1,2,0,2,4,9,11,13,8,8]\n",
    "frame = pd.Series(frequency)\n",
    "\n",
    "\n",
    "print(f\"N is {round(frame.sum(),2)}\")\n",
    "print(f\"Mean is {round(frame.mean(),2)}\")\n",
    "print(f\"Median is: {frame.median()}\")\n",
    "print(f\"St dev is: {round(frame.std(),2)}\")\n",
    "print(f\"Variance is: {round(frame.var(),2)}\")\n",
    "\n",
    "frame.describe()\n"
   ]
  },
  {
   "attachments": {},
   "cell_type": "markdown",
   "metadata": {},
   "source": [
    "## Exercise 8.3 - formula for sample variance\n",
    "\n",
    "In the formula for the sample variance, the difference between the measurement values and the mean is squared. Why? Couldn't we devise a simpler formula that is an equally good measure of the dispersion of a dataset? Here are three proposals (the third one is the \"real\" formula):\n",
    "\n",
    "1. $s_{1}^{2} = \\frac{1}{n-1} \\sum_{i=1}^{n} (\\overline{x} - x_i)$\n",
    "2. $s_{2}^{2} = \\frac{1}{n-1} \\sum_{i=1}^{n} \\left| \\overline{x} - x_i\\right|$\n",
    "3. $s_{3}^{2} = \\frac{1}{n-1} \\sum_{i=1}^{n} (\\overline{x} - x_i)^{2}$\n",
    "\n",
    "Apply each formula to the two data sets below. By comparing the results, you should be able to decide whether the formulas are suitable as a dispersion measure.\n",
    "\n",
    "- $X = \\left\\{ 4,4,-4,-4 \\right\\}$\n",
    "- $Y = \\left\\{ 7,1,-6,-2 \\right\\}$"
   ]
  },
  {
   "attachments": {},
   "cell_type": "markdown",
   "metadata": {},
   "source": [
    "## Exercise 8.4 - data visualisation hall of shame\n",
    "\n",
    "Look for examples of bad graphs in news reports, articles, interest group publications, etc.\n",
    "\n",
    "Why is the chosen graph \"bad\"? What mistakes are being made? What changes should be made to correct the graph? Who will find the most ridiculous example of a bad graph within the class group?"
   ]
  }
 ],
 "metadata": {
  "kernelspec": {
   "display_name": "Python 3",
   "language": "python",
   "name": "python3"
  },
  "language_info": {
   "codemirror_mode": {
    "name": "ipython",
    "version": 3
   },
   "file_extension": ".py",
   "mimetype": "text/x-python",
   "name": "python",
   "nbconvert_exporter": "python",
   "pygments_lexer": "ipython3",
   "version": "3.12.0"
  },
  "orig_nbformat": 4
 },
 "nbformat": 4,
 "nbformat_minor": 2
}
